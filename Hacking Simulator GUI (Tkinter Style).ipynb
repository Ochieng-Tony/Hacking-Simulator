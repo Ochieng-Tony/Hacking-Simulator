{
 "cells": [
  {
   "cell_type": "code",
   "execution_count": 1,
   "id": "91d20d03-3d7f-4fd5-a650-feaec7dce64f",
   "metadata": {},
   "outputs": [],
   "source": [
    "import tkinter as tk\n",
    "from tkinter import messagebox\n",
    "import random\n",
    "import time\n",
    "import threading\n",
    "\n",
    "# Fake logs to simulate hacking\n",
    "log_messages = [\n",
    "    \"Connecting to remote server...\",\n",
    "    \"Bypassing firewall...\",\n",
    "    \"Accessing system directory...\",\n",
    "    \"Cracking encryption...\",\n",
    "    \"Extracting credentials...\",\n",
    "    \"Injecting payload...\",\n",
    "    \"Uploading virus...\",\n",
    "    \"Access granted! 🔓\",\n",
    "    \"Session established with target.\",\n",
    "]\n",
    "\n",
    "def start_hack():\n",
    "    hack_button.config(state=\"disabled\")\n",
    "    text_area.delete('1.0', tk.END)\n",
    "\n",
    "    def hack_sequence():\n",
    "        for msg in log_messages:\n",
    "            delay = random.uniform(0.3, 1.2)\n",
    "            time.sleep(delay)\n",
    "            text_area.insert(tk.END, f\"> {msg}\\n\")\n",
    "            text_area.see(tk.END)\n",
    "        time.sleep(1)\n",
    "        messagebox.showinfo(\"System\", \"ACCESS GRANTED 🟢\")\n",
    "\n",
    "        hack_button.config(state=\"normal\")\n",
    "\n",
    "    threading.Thread(target=hack_sequence).start()\n",
    "\n",
    "# GUI Setup\n",
    "root = tk.Tk()\n",
    "root.title(\"Hacker Terminal - Simulation\")\n",
    "root.geometry(\"700x400\")\n",
    "root.configure(bg=\"black\")\n",
    "\n",
    "# Text widget\n",
    "text_area = tk.Text(root, bg=\"black\", fg=\"lime\", insertbackground=\"lime\", font=(\"Courier\", 12))\n",
    "text_area.pack(fill=tk.BOTH, expand=True, padx=10, pady=10)\n",
    "\n",
    "# Hack button\n",
    "hack_button = tk.Button(root, text=\"Initiate Hack\", command=start_hack,\n",
    "                        bg=\"darkgreen\", fg=\"white\", font=(\"Courier\", 12, \"bold\"))\n",
    "hack_button.pack(pady=10)\n",
    "\n",
    "root.mainloop()\n"
   ]
  },
  {
   "cell_type": "code",
   "execution_count": null,
   "id": "f8d09294-5a35-46c4-a8a6-98ea3dc1b923",
   "metadata": {},
   "outputs": [],
   "source": []
  }
 ],
 "metadata": {
  "kernelspec": {
   "display_name": "Python 3 (ipykernel)",
   "language": "python",
   "name": "python3"
  },
  "language_info": {
   "codemirror_mode": {
    "name": "ipython",
    "version": 3
   },
   "file_extension": ".py",
   "mimetype": "text/x-python",
   "name": "python",
   "nbconvert_exporter": "python",
   "pygments_lexer": "ipython3",
   "version": "3.12.7"
  }
 },
 "nbformat": 4,
 "nbformat_minor": 5
}
